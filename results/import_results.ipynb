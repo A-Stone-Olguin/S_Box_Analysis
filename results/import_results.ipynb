{
 "cells": [
  {
   "cell_type": "code",
   "execution_count": 55,
   "metadata": {},
   "outputs": [],
   "source": [
    "import pickle\n",
    "import re\n",
    "import pandas as pd\n",
    "import os"
   ]
  },
  {
   "cell_type": "markdown",
   "metadata": {},
   "source": [
    "Try and gather the s-box info from sage. If it doesn't already exist, generate it."
   ]
  },
  {
   "cell_type": "code",
   "execution_count": 56,
   "metadata": {},
   "outputs": [],
   "source": [
    "try: \n",
    "    with open(\"../chipwhisperer_minimal/generate_c/sboxes_info.pkl\", \"rb\") as f:\n",
    "        sboxes_df = pickle.load(f)\n",
    "except FileNotFoundError:\n",
    "    print(\"No pickled sbox info found, generating by running sboxes_info.py\")\n",
    "    import sboxes_info\n",
    "    sboxes_info.main()\n",
    "    with open(\"../chipwhisperer_minimal/generate_c/sboxes_info.pkl\", \"rb\") as f:\n",
    "        sboxes_df = pickle.load(f)"
   ]
  },
  {
   "cell_type": "markdown",
   "metadata": {},
   "source": [
    "Get all results files (.txt files)"
   ]
  },
  {
   "cell_type": "code",
   "execution_count": 57,
   "metadata": {},
   "outputs": [
    {
     "data": {
      "text/plain": [
       "['n_traces_cwlitearm_DPA.txt',\n",
       " 'avg_leaks_cwlitearm_CBC.txt',\n",
       " 'n_traces_cwnano_DPA.txt',\n",
       " 'avg_leaks_cwnano_CTR.txt',\n",
       " 'avg_leaks_cwlitearm_CTR.txt',\n",
       " 'n_traces_cwlitearm_CPA.txt',\n",
       " 'avg_leaks_cwlitearm_ECB.txt',\n",
       " 'avg_leaks_cwnano_CBC.txt',\n",
       " 'avg_leaks_cwnano_ECB.txt',\n",
       " 'n_traces_cwnano_CPA.txt']"
      ]
     },
     "execution_count": 57,
     "metadata": {},
     "output_type": "execute_result"
    }
   ],
   "source": [
    "files = []\n",
    "for filename in os.scandir(\"./\"):\n",
    "    if filename.is_file():\n",
    "        # Only grab the txt files\n",
    "        if re.search(r'\\.txt$', filename.name):\n",
    "            files.append(filename.name)\n",
    "files"
   ]
  },
  {
   "cell_type": "markdown",
   "metadata": {},
   "source": [
    "Get associated column names for each result"
   ]
  },
  {
   "cell_type": "code",
   "execution_count": 58,
   "metadata": {},
   "outputs": [
    {
     "name": "stdout",
     "output_type": "stream",
     "text": [
      "['n_traces', 'cwlitearm', 'DPA']\n",
      "['avg_leaks', 'cwlitearm', 'CBC']\n",
      "['n_traces', 'cwnano', 'DPA']\n",
      "['avg_leaks', 'cwnano', 'CTR']\n",
      "['avg_leaks', 'cwlitearm', 'CTR']\n",
      "['n_traces', 'cwlitearm', 'CPA']\n",
      "['avg_leaks', 'cwlitearm', 'ECB']\n",
      "['avg_leaks', 'cwnano', 'CBC']\n",
      "['avg_leaks', 'cwnano', 'ECB']\n",
      "['n_traces', 'cwnano', 'CPA']\n"
     ]
    }
   ],
   "source": [
    "col_names = [\"\" for _ in range(len(files))]\n",
    "\n",
    "regex = r'(n_traces|avg_leaks)_(cwnano|cwlitearm)_(DPA|CPA|ECB|CBC|CTR)'\n",
    "for i, filename in enumerate(files):\n",
    "    # Get captured patterns\n",
    "    matches = re.findall(regex, filename)[0]\n",
    "    # Replace empty strings with None\n",
    "    matches = [None if x == '' else x for x in matches]\n",
    "    print(matches)\n",
    "\n",
    "    # Make associated column names\n",
    "    metric = matches[0]\n",
    "    device = matches[1]\n",
    "    metric_config = matches[2]\n",
    "\n",
    "    col_name = f\"{device}_{metric_config}_{metric}\"\n",
    "\n",
    "    col_names[i] = col_name"
   ]
  },
  {
   "cell_type": "markdown",
   "metadata": {},
   "source": [
    "Import Results"
   ]
  },
  {
   "cell_type": "code",
   "execution_count": 59,
   "metadata": {},
   "outputs": [],
   "source": [
    "sboxes_df.pop(\"box\")\n",
    "sboxes_df.pop(\"inverse\")\n",
    "\n",
    "sboxes_dict = sboxes_df.T.to_dict()\n",
    "for i, filename in enumerate(files):\n",
    "    col_name = col_names[i]\n",
    "    with open(filename, \"r\") as f:\n",
    "        lines = f.readlines()\n",
    "        for line in lines:\n",
    "            vals = re.split(r'\\s', line)\n",
    "            name = vals[0]\n",
    "            # Account for mistake in tvla that halved the results\n",
    "            if \"leaks\" in filename:\n",
    "                result = str(2*float(vals[1]))\n",
    "            else:\n",
    "                result = vals[1]\n",
    "            sboxes_dict[name][col_name] = result\n",
    "\n",
    "sboxes_info_df = pd.DataFrame.from_dict(sboxes_dict).T"
   ]
  },
  {
   "cell_type": "markdown",
   "metadata": {},
   "source": [
    "Round columns"
   ]
  },
  {
   "cell_type": "code",
   "execution_count": 60,
   "metadata": {},
   "outputs": [],
   "source": [
    "sboxes_info_df = sboxes_info_df.apply(pd.to_numeric)\n",
    "sboxes_info_df = sboxes_info_df.round(5)"
   ]
  },
  {
   "cell_type": "markdown",
   "metadata": {},
   "source": [
    "Print to CSV"
   ]
  },
  {
   "cell_type": "code",
   "execution_count": 61,
   "metadata": {},
   "outputs": [],
   "source": [
    "sboxes_info_df.to_csv(\"./sboxes_results.csv\")"
   ]
  },
  {
   "cell_type": "markdown",
   "metadata": {},
   "source": [
    "Metric results and property values for each S-box, for the paper"
   ]
  },
  {
   "cell_type": "code",
   "execution_count": 62,
   "metadata": {},
   "outputs": [],
   "source": [
    "sbox_properties = sboxes_info_df.iloc[:, :9]\n",
    "\n",
    "desired_order = ['cwlitearm_DPA_n_traces', 'cwnano_DPA_n_traces',\n",
    "                 'cwlitearm_CPA_n_traces', 'cwnano_CPA_n_traces',\n",
    "                 'cwlitearm_ECB_avg_leaks', 'cwnano_ECB_avg_leaks',\n",
    "                 'cwlitearm_CBC_avg_leaks', 'cwnano_CBC_avg_leaks',\n",
    "                 'cwlitearm_CTR_avg_leaks', 'cwnano_CTR_avg_leaks']\n",
    "metric_results = sboxes_info_df.iloc[:, 9:]\n",
    "metric_results = metric_results[desired_order]"
   ]
  },
  {
   "cell_type": "code",
   "execution_count": 63,
   "metadata": {},
   "outputs": [
    {
     "name": "stderr",
     "output_type": "stream",
     "text": [
      "/tmp/ipykernel_87231/3224003342.py:2: FutureWarning: In future versions `DataFrame.to_latex` is expected to utilise the base implementation of `Styler.to_latex` for formatting and rendering. The arguments signature may therefore change. It is recommended instead to use `DataFrame.style.to_latex` which also contains additional functionality.\n",
      "  print(sbox_properties.to_latex(), file = f)\n",
      "/tmp/ipykernel_87231/3224003342.py:4: FutureWarning: In future versions `DataFrame.to_latex` is expected to utilise the base implementation of `Styler.to_latex` for formatting and rendering. The arguments signature may therefore change. It is recommended instead to use `DataFrame.style.to_latex` which also contains additional functionality.\n",
      "  print(metric_results.to_latex(), file = f)\n"
     ]
    }
   ],
   "source": [
    "with open(\"../properties.txt\", \"w\") as f:\n",
    "    print(sbox_properties.to_latex(), file = f)\n",
    "with open(\"../metric_results.txt\", \"w\") as f:\n",
    "    print(metric_results.to_latex(), file = f)"
   ]
  },
  {
   "cell_type": "code",
   "execution_count": null,
   "metadata": {},
   "outputs": [],
   "source": []
  }
 ],
 "metadata": {
  "kernelspec": {
   "display_name": "Python 3",
   "language": "python",
   "name": "python3"
  },
  "language_info": {
   "codemirror_mode": {
    "name": "ipython",
    "version": 3
   },
   "file_extension": ".py",
   "mimetype": "text/x-python",
   "name": "python",
   "nbconvert_exporter": "python",
   "pygments_lexer": "ipython3",
   "version": "3.10.12"
  }
 },
 "nbformat": 4,
 "nbformat_minor": 2
}
