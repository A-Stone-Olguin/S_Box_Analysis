{
 "cells": [
  {
   "cell_type": "code",
   "execution_count": 58,
   "metadata": {},
   "outputs": [],
   "source": [
    "import pickle\n",
    "import re\n",
    "import pandas as pd\n",
    "import os"
   ]
  },
  {
   "cell_type": "markdown",
   "metadata": {},
   "source": [
    "Try and gather the s-box info from sage. If it doesn't already exist, generate it."
   ]
  },
  {
   "cell_type": "code",
   "execution_count": 59,
   "metadata": {},
   "outputs": [],
   "source": [
    "try: \n",
    "    with open(\"../chipwhisperer_minimal/generate_c/sboxes_info.pkl\", \"rb\") as f:\n",
    "        sboxes_df = pickle.load(f)\n",
    "except FileNotFoundError:\n",
    "    print(\"No pickled sbox info found, generating by running sboxes_info.py\")\n",
    "    import sboxes_info\n",
    "    sboxes_info.main()\n",
    "    with open(\"../chipwhisperer_minimal/generate_c/sboxes_info.pkl\", \"rb\") as f:\n",
    "        sboxes_df = pickle.load(f)"
   ]
  },
  {
   "cell_type": "markdown",
   "metadata": {},
   "source": [
    "Get all results files (.txt files)"
   ]
  },
  {
   "cell_type": "code",
   "execution_count": 60,
   "metadata": {},
   "outputs": [
    {
     "data": {
      "text/plain": [
       "['avg_leaks_tvla_cwlitearm.txt',\n",
       " 'n_traces_dpa_cwnano.txt',\n",
       " 'avg_leaks_tvla_cwnano_CBC.txt',\n",
       " 'avg_leaks_tvla_cwlitearm_CTR.txt',\n",
       " '30run_avg_leaks_tvla_cwlitearm_ECB_1000.txt',\n",
       " 'avg_leaks_tvla_cwnano.txt',\n",
       " '30run_avg_leaks_tvla_cwlitearm_ECB.txt',\n",
       " 'n_traces_cpa_cwnano.txt',\n",
       " 'n_traces_dpa_cwlitearm.txt',\n",
       " '30run_avg_leaks_tvla_cwnano_ECB_1000.txt',\n",
       " '30run_n_traces_cpa_cwlitearm_ECB.txt',\n",
       " 'n_traces_cpa_cwlitearm.txt',\n",
       " 'avg_leaks_tvla_cwlitearm_CBC.txt',\n",
       " 'avg_leaks_tvla_cwnano_CTR.txt']"
      ]
     },
     "execution_count": 60,
     "metadata": {},
     "output_type": "execute_result"
    }
   ],
   "source": [
    "files = []\n",
    "for filename in os.scandir(\"./\"):\n",
    "    if filename.is_file():\n",
    "        # Only grab the txt files\n",
    "        if re.search(r'\\.txt$', filename.name):\n",
    "            files.append(filename.name)\n",
    "files"
   ]
  },
  {
   "cell_type": "markdown",
   "metadata": {},
   "source": [
    "Get associated column names for each result"
   ]
  },
  {
   "cell_type": "code",
   "execution_count": 61,
   "metadata": {},
   "outputs": [
    {
     "name": "stdout",
     "output_type": "stream",
     "text": [
      "[None, None, 'avg_leaks', 'tvla', 'cwlitearm', None, None]\n",
      "[None, None, 'n_traces', 'dpa', 'cwnano', None, None]\n",
      "[None, None, 'avg_leaks', 'tvla', 'cwnano', 'CBC', None]\n",
      "[None, None, 'avg_leaks', 'tvla', 'cwlitearm', 'CTR', None]\n",
      "['30', 'run', 'avg_leaks', 'tvla', 'cwlitearm', 'ECB', '1000']\n",
      "[None, None, 'avg_leaks', 'tvla', 'cwnano', None, None]\n",
      "['30', 'run', 'avg_leaks', 'tvla', 'cwlitearm', 'ECB', None]\n",
      "[None, None, 'n_traces', 'cpa', 'cwnano', None, None]\n",
      "[None, None, 'n_traces', 'dpa', 'cwlitearm', None, None]\n",
      "['30', 'run', 'avg_leaks', 'tvla', 'cwnano', 'ECB', '1000']\n",
      "['30', 'run', 'n_traces', 'cpa', 'cwlitearm', 'ECB', None]\n",
      "[None, None, 'n_traces', 'cpa', 'cwlitearm', None, None]\n",
      "[None, None, 'avg_leaks', 'tvla', 'cwlitearm', 'CBC', None]\n",
      "[None, None, 'avg_leaks', 'tvla', 'cwnano', 'CTR', None]\n"
     ]
    }
   ],
   "source": [
    "col_names = [\"\" for _ in range(len(files))]\n",
    "\n",
    "regex = r'(\\d+)?(run)?_?(n_traces|avg_leaks)_(tvla|dpa|cpa)_(cwnano|cwlitearm)_?(ECB|CBC|CTR)?_?(\\d+)?'\n",
    "for i, filename in enumerate(files):\n",
    "    # Get captured patterns\n",
    "    matches = re.findall(regex, filename)[0]\n",
    "\n",
    "    # Replace empty strings with None\n",
    "    matches = [None if x == '' else x for x in matches]\n",
    "    print(matches)\n",
    "\n",
    "    # Make associated column names\n",
    "    num_run = matches[0] if matches[0] else \"10\"\n",
    "    metric = matches[2]\n",
    "    test = matches[3]\n",
    "    device = matches[4]\n",
    "    mode = matches[5] if matches[5] else \"ECB\"\n",
    "    tvla_samples = matches[6] if matches[6] else \"250\"\n",
    "\n",
    "    if test == \"tvla\":\n",
    "        col_name = f\"{num_run}_{device}_{test}_{mode}_{tvla_samples}\"\n",
    "    else:\n",
    "        col_name = f\"{num_run}_{device}_{test}_{mode}\"\n",
    "\n",
    "    col_names[i] = col_name"
   ]
  },
  {
   "cell_type": "markdown",
   "metadata": {},
   "source": [
    "Import Results"
   ]
  },
  {
   "cell_type": "code",
   "execution_count": 62,
   "metadata": {},
   "outputs": [],
   "source": [
    "sboxes_df.pop(\"box\")\n",
    "sboxes_df.pop(\"inverse\")\n",
    "\n",
    "sboxes_dict = sboxes_df.T.to_dict()\n",
    "for i, filename in enumerate(files):\n",
    "    col_name = col_names[i]\n",
    "    with open(filename, \"r\") as f:\n",
    "        lines = f.readlines()\n",
    "        for line in lines:\n",
    "            vals = re.split(r'\\s', line)\n",
    "            name = vals[0]\n",
    "            result = vals[1]\n",
    "            sboxes_dict[name][col_name] = result\n",
    "\n",
    "sboxes_info_df = pd.DataFrame.from_dict(sboxes_dict).T"
   ]
  },
  {
   "cell_type": "markdown",
   "metadata": {},
   "source": [
    "Round columns"
   ]
  },
  {
   "cell_type": "code",
   "execution_count": 63,
   "metadata": {},
   "outputs": [],
   "source": [
    "sboxes_info_df = sboxes_info_df.apply(pd.to_numeric)\n",
    "sboxes_info_df = sboxes_info_df.round(5)"
   ]
  },
  {
   "cell_type": "markdown",
   "metadata": {},
   "source": [
    "Print to CSV"
   ]
  },
  {
   "cell_type": "code",
   "execution_count": 64,
   "metadata": {},
   "outputs": [],
   "source": [
    "sboxes_info_df.to_csv(\"./sboxes_results.csv\")"
   ]
  },
  {
   "cell_type": "code",
   "execution_count": null,
   "metadata": {},
   "outputs": [],
   "source": []
  }
 ],
 "metadata": {
  "kernelspec": {
   "display_name": "Python 3",
   "language": "python",
   "name": "python3"
  },
  "language_info": {
   "codemirror_mode": {
    "name": "ipython",
    "version": 3
   },
   "file_extension": ".py",
   "mimetype": "text/x-python",
   "name": "python",
   "nbconvert_exporter": "python",
   "pygments_lexer": "ipython3",
   "version": "3.10.12"
  }
 },
 "nbformat": 4,
 "nbformat_minor": 2
}
